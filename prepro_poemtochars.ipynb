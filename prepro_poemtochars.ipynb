{
 "cells": [
  {
   "cell_type": "code",
   "execution_count": 1,
   "metadata": {
    "collapsed": true
   },
   "outputs": [],
   "source": [
    "import sys,os\n",
    "import numpy as np\n",
    "if(not sys.version_info[0]<3):\n",
    "    from importlib import reload \n",
    "from bs4 import BeautifulSoup\n",
    "import urllib\n",
    "import requests\n",
    "import pandas as pd\n",
    "import nltk\n",
    "import json"
   ]
  },
  {
   "cell_type": "code",
   "execution_count": 2,
   "metadata": {
    "collapsed": true
   },
   "outputs": [],
   "source": [
    "poems_list=np.load('poem_npdata.npy')"
   ]
  },
  {
   "cell_type": "code",
   "execution_count": 3,
   "metadata": {
    "collapsed": true
   },
   "outputs": [],
   "source": [
    "\n",
    "def replace(s1,s2,pl):\n",
    "    p=np.array([ptmp.replace(s1,s2) for ptmp in pl])\n",
    "    return p\n",
    "s1=' — '\n",
    "s2=' - '\n",
    "s1=' '\n",
    "s2=' '\n",
    "for _ in range(2):\n",
    "   # poems_list=replace('— ', s1,poems_list)\n",
    "   # poems_list=replace(' —', s1,poems_list)\n",
    "   # poems_list=replace('- ', s2,poems_list)\n",
    "   # poems_list=replace(' -', s2,poems_list)\n",
    "    poems_list=replace('\\r', '\\n',poems_list)\n",
    "    \n",
    "    poems_list=replace('  \\n', ' \\n',poems_list)\n",
    "    poems_list=replace('\\n  ', '\\n ',poems_list)\n",
    "    poems_list=replace('\\r', ' \\r',poems_list)\n",
    "\n",
    "    poems_list=replace(' \\n \\n ', '\\n',poems_list)\n",
    "    poems_list=replace(' \\r \\n ', '\\n',poems_list)\n",
    "    poems_list=replace(' \\n \\r ', '\\n',poems_list)\n",
    "    poems_list=replace(' \\r \\r ', '\\n',poems_list)\n",
    "\n",
    "    poems_list=replace(' \\n \\n', '\\n',poems_list)\n",
    "    poems_list=replace(' \\r \\n', '\\n',poems_list)\n",
    "    poems_list=replace(' \\n \\r', '\\n',poems_list)\n",
    "    poems_list=replace(' \\r \\r', '\\n',poems_list)\n",
    "\n",
    "    poems_list=replace('\\n \\n ', '\\n',poems_list)\n",
    "    poems_list=replace('\\r \\n ', '\\n',poems_list)\n",
    "    poems_list=replace('\\n \\r ', '\\n',poems_list)\n",
    "    poems_list=replace('\\r \\r ', '\\n',poems_list)\n",
    "\n",
    "    poems_list=replace(' \\n  \\n ', '\\n',poems_list)\n",
    "    poems_list=replace('\\n  \\n ', '\\n',poems_list)\n",
    "    poems_list=replace(' \\n  \\n', '\\n',poems_list)\n",
    "    poems_list=replace('\\n  \\n', '\\n',poems_list)\n",
    "\n",
    "    poems_list=replace('\\n  \\r', '\\n',poems_list)\n",
    "    poems_list=replace('\\r  \\n', '\\n',poems_list)\n",
    "\n",
    "\n",
    "    poems_list=replace('\\n\\n', '\\n',poems_list)\n",
    "    poems_list=replace('\\r\\n', '\\n',poems_list)\n",
    "    poems_list=replace('\\n\\r', '\\n',poems_list)\n",
    "    poems_list=replace('\\r\\r', '\\n',poems_list)\n",
    "    \n",
    "\n",
    "    poems_list=replace(' \\n\\n ', '\\n',poems_list)\n",
    "    poems_list=replace('\\n\\n ', '\\n',poems_list)\n",
    "    poems_list=replace(' \\n\\n', '\\n',poems_list)\n",
    "\n",
    "    \n",
    "\n",
    "    #poems_list=replace('—— ', ' —— ',poems_list)\n",
    "    #poems_list=replace(' ——', ' —— ',poems_list)\n",
    "    #poems_list=replace('-- ', ' -- ',poems_list)\n",
    "    #poems_list=replace(' --', ' -- ',poems_list)\n",
    "\n",
    "npoem=len(poems_list)"
   ]
  },
  {
   "cell_type": "code",
   "execution_count": 4,
   "metadata": {
    "collapsed": true
   },
   "outputs": [],
   "source": [
    "cha=[]\n",
    "for p in poems_list:\n",
    "    cha=cha+list(p)\n",
    "np.save('poems_input',cha)"
   ]
  },
  {
   "cell_type": "code",
   "execution_count": 5,
   "metadata": {
    "collapsed": true
   },
   "outputs": [],
   "source": [
    "dic=np.unique(cha)\n",
    "charnum=len(dic)\n",
    "dictonum=np.arange(charnum)\n",
    "ohe=np.eye(len(dic))\n",
    "c2ndic={dic[i]:dictonum[i] for i in range(charnum)}\n",
    "n2cdic={dictonum[i]:dic[i] for i in range(charnum)}\n",
    "dic\n",
    "np.save('n2c',n2cdic)\n",
    "np.save('c2n',c2ndic)"
   ]
  },
  {
   "cell_type": "markdown",
   "metadata": {},
   "source": [
    "Testing what we've done"
   ]
  },
  {
   "cell_type": "code",
   "execution_count": 8,
   "metadata": {},
   "outputs": [
    {
     "data": {
      "text/plain": [
       "array(['t', 'h', 'r', 'e', 'e', ' ', 'p', 'e', 't', 'a', 'l', 's', ' ',\n",
       "       'f', 'a', 'l', 'l', ' ', '\\n', ' ', 'f', 'r', 'o', 'm', ' ', 't',\n",
       "       'h', 'e', ' ', 'p', 'u', 'r', 'p', 'l', 'e', ' ', 'c', 'o', 'n',\n",
       "       'e', 'f', 'l', 'o', 'w', 'e', 'r', '.', '.', '.', ' ', '\\n', ' ',\n",
       "       'a', 'l', 'm', 'o', 's', 't', ' ', 's', 'u', 'm', 'm', 'e', 'r',\n",
       "       '\\n', 'i', 'n', 's', 't', 'a', 'n', 't', ' ', 'm', 'e', 's', 's',\n",
       "       'a', 'g', 'e', '-', '-', ' ', '\\n', ' ', 'm', 'o', 'o', 'n', ' ',\n",
       "       'r', 'e', 'v', 'e', 'a', 'l', 's', ' ', 'm'], \n",
       "      dtype='<U1')"
      ]
     },
     "execution_count": 8,
     "metadata": {},
     "output_type": "execute_result"
    }
   ],
   "source": [
    "allpoems=np.load('poems_input.npy')\n",
    "allpoems[:100]"
   ]
  },
  {
   "cell_type": "code",
   "execution_count": 9,
   "metadata": {
    "collapsed": true
   },
   "outputs": [],
   "source": [
    "n2cdic=np.load('n2c.npy')\n",
    "c2ndic=np.load('c2n.npy')"
   ]
  },
  {
   "cell_type": "code",
   "execution_count": 15,
   "metadata": {},
   "outputs": [
    {
     "data": {
      "text/plain": [
       "dict_values(['\\n', ' ', '!', '\"', '&', \"'\", '(', ')', '*', ',', '-', '.', '0', '1', '2', '3', '4', '5', '6', '7', '8', '9', ':', ';', '<', '=', '>', '?', 'A', 'B', 'C', 'D', 'E', 'F', 'G', 'H', 'I', 'J', 'K', 'L', 'M', 'N', 'O', 'P', 'Q', 'R', 'S', 'T', 'U', 'V', 'W', 'X', 'Y', 'Z', 'a', 'b', 'c', 'd', 'e', 'f', 'g', 'h', 'i', 'j', 'k', 'l', 'm', 'n', 'o', 'p', 'q', 'r', 's', 't', 'u', 'v', 'w', 'x', 'y', 'z', '~', 'ä', 'è', 'é', 'ü', '–', '—', '’'])"
      ]
     },
     "execution_count": 15,
     "metadata": {},
     "output_type": "execute_result"
    }
   ],
   "source": [
    "n2cdic[()].values()"
   ]
  },
  {
   "cell_type": "code",
   "execution_count": 11,
   "metadata": {},
   "outputs": [
    {
     "data": {
      "text/plain": [
       "array({'\\n': 0, ' ': 1, '!': 2, '\"': 3, '&': 4, \"'\": 5, '(': 6, ')': 7, '*': 8, ',': 9, '-': 10, '.': 11, '0': 12, '1': 13, '2': 14, '3': 15, '4': 16, '5': 17, '6': 18, '7': 19, '8': 20, '9': 21, ':': 22, ';': 23, '<': 24, '=': 25, '>': 26, '?': 27, 'A': 28, 'B': 29, 'C': 30, 'D': 31, 'E': 32, 'F': 33, 'G': 34, 'H': 35, 'I': 36, 'J': 37, 'K': 38, 'L': 39, 'M': 40, 'N': 41, 'O': 42, 'P': 43, 'Q': 44, 'R': 45, 'S': 46, 'T': 47, 'U': 48, 'V': 49, 'W': 50, 'X': 51, 'Y': 52, 'Z': 53, 'a': 54, 'b': 55, 'c': 56, 'd': 57, 'e': 58, 'f': 59, 'g': 60, 'h': 61, 'i': 62, 'j': 63, 'k': 64, 'l': 65, 'm': 66, 'n': 67, 'o': 68, 'p': 69, 'q': 70, 'r': 71, 's': 72, 't': 73, 'u': 74, 'v': 75, 'w': 76, 'x': 77, 'y': 78, 'z': 79, '~': 80, 'ä': 81, 'è': 82, 'é': 83, 'ü': 84, '–': 85, '—': 86, '’': 87}, dtype=object)"
      ]
     },
     "execution_count": 11,
     "metadata": {},
     "output_type": "execute_result"
    }
   ],
   "source": [
    "c2ndic"
   ]
  },
  {
   "cell_type": "code",
   "execution_count": null,
   "metadata": {
    "collapsed": true
   },
   "outputs": [],
   "source": []
  }
 ],
 "metadata": {
  "kernelspec": {
   "display_name": "Python 3",
   "language": "python",
   "name": "python3"
  },
  "language_info": {
   "codemirror_mode": {
    "name": "ipython",
    "version": 3
   },
   "file_extension": ".py",
   "mimetype": "text/x-python",
   "name": "python",
   "nbconvert_exporter": "python",
   "pygments_lexer": "ipython3",
   "version": "3.6.1"
  }
 },
 "nbformat": 4,
 "nbformat_minor": 2
}
